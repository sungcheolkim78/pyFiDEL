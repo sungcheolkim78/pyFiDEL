{
 "cells": [
  {
   "cell_type": "markdown",
   "id": "c727ffa1-af93-4616-8fa4-f46d5d6d3dd8",
   "metadata": {},
   "source": [
    "# pyFiDEL \n",
    "\n",
    "This is simple tutorial to demonstrate the usage of pyFiDEL package"
   ]
  },
  {
   "cell_type": "code",
   "execution_count": 1,
   "id": "ab9903e4-9665-495f-a67a-32d282073d8c",
   "metadata": {},
   "outputs": [],
   "source": [
    "from pyFiDEL import SimClassifier\n",
    "from pyFiDEL.ranks import build_metric\n",
    "from pyFiDEL.ranks import get_fermi_min, get_fermi_root, build_correspond_table\n",
    "\n",
    "import pandas as pd\n",
    "import seaborn as sns\n",
    "import matplotlib.pyplot as plt"
   ]
  },
  {
   "cell_type": "code",
   "execution_count": 2,
   "id": "195ba9ee-00c1-48f8-8002-6804dba4a9f9",
   "metadata": {},
   "outputs": [],
   "source": [
    "# create simulator\n",
    "\n",
    "c = SimClassifier(N = 1000, rho = 0.7)"
   ]
  },
  {
   "cell_type": "code",
   "execution_count": 3,
   "id": "d75e965f-1e87-4000-985f-0ee6874b96e0",
   "metadata": {},
   "outputs": [
    {
     "name": "stdout",
     "output_type": "stream",
     "text": [
      "Final AUC: 0.6999 (iter: 261) mu2: 0.7416143171871158\n"
     ]
    }
   ],
   "source": [
    "# generate Gaussian score with target AUC\n",
    "\n",
    "score = c.create_gaussian_scores(auc0 = .7)"
   ]
  },
  {
   "cell_type": "code",
   "execution_count": 4,
   "id": "41063ac0-2a37-44ce-995c-4f3c25fad35c",
   "metadata": {},
   "outputs": [
    {
     "data": {
      "image/png": "[encoded data removed]",
      "text/plain": [
       "<Figure size 432x288 with 1 Axes>"
      ]
     },
     "metadata": {
      "needs_background": "light"
     },
     "output_type": "display_data"
    }
   ],
   "source": [
    "# show score histogram\n",
    "\n",
    "c.plot_score()"
   ]
  },
  {
   "cell_type": "code",
   "execution_count": 5,
   "id": "04f0b23e-8784-4e63-b52d-4a8c2ff728b2",
   "metadata": {},
   "outputs": [
    {
     "data": {
      "text/html": [
       "<div>\n",
       "<style scoped>\n",
       "    .dataframe tbody tr th:only-of-type {\n",
       "        vertical-align: middle;\n",
       "    }\n",
       "\n",
       "    .dataframe tbody tr th {\n",
       "        vertical-align: top;\n",
       "    }\n",
       "\n",
       "    .dataframe thead th {\n",
       "        text-align: right;\n",
       "    }\n",
       "</style>\n",
       "<table border=\"1\" class=\"dataframe\">\n",
       "  <thead>\n",
       "    <tr style=\"text-align: right;\">\n",
       "      <th></th>\n",
       "      <th>score</th>\n",
       "      <th>y</th>\n",
       "      <th>rank</th>\n",
       "      <th>tpr</th>\n",
       "      <th>fpr</th>\n",
       "      <th>bac</th>\n",
       "      <th>prec</th>\n",
       "    </tr>\n",
       "  </thead>\n",
       "  <tbody>\n",
       "    <tr>\n",
       "      <th>0</th>\n",
       "      <td>-2.865140</td>\n",
       "      <td>Y</td>\n",
       "      <td>1</td>\n",
       "      <td>0.001429</td>\n",
       "      <td>0.000000</td>\n",
       "      <td>0.500714</td>\n",
       "      <td>1.000000</td>\n",
       "    </tr>\n",
       "    <tr>\n",
       "      <th>1</th>\n",
       "      <td>-2.655607</td>\n",
       "      <td>Y</td>\n",
       "      <td>2</td>\n",
       "      <td>0.002857</td>\n",
       "      <td>0.000000</td>\n",
       "      <td>0.501429</td>\n",
       "      <td>1.000000</td>\n",
       "    </tr>\n",
       "    <tr>\n",
       "      <th>2</th>\n",
       "      <td>-2.645042</td>\n",
       "      <td>N</td>\n",
       "      <td>3</td>\n",
       "      <td>0.002857</td>\n",
       "      <td>0.003333</td>\n",
       "      <td>0.499762</td>\n",
       "      <td>0.666667</td>\n",
       "    </tr>\n",
       "    <tr>\n",
       "      <th>3</th>\n",
       "      <td>-2.464232</td>\n",
       "      <td>Y</td>\n",
       "      <td>4</td>\n",
       "      <td>0.004286</td>\n",
       "      <td>0.003333</td>\n",
       "      <td>0.500476</td>\n",
       "      <td>0.750000</td>\n",
       "    </tr>\n",
       "    <tr>\n",
       "      <th>4</th>\n",
       "      <td>-2.389570</td>\n",
       "      <td>Y</td>\n",
       "      <td>5</td>\n",
       "      <td>0.005714</td>\n",
       "      <td>0.003333</td>\n",
       "      <td>0.501190</td>\n",
       "      <td>0.800000</td>\n",
       "    </tr>\n",
       "    <tr>\n",
       "      <th>...</th>\n",
       "      <td>...</td>\n",
       "      <td>...</td>\n",
       "      <td>...</td>\n",
       "      <td>...</td>\n",
       "      <td>...</td>\n",
       "      <td>...</td>\n",
       "      <td>...</td>\n",
       "    </tr>\n",
       "    <tr>\n",
       "      <th>995</th>\n",
       "      <td>2.843025</td>\n",
       "      <td>Y</td>\n",
       "      <td>996</td>\n",
       "      <td>0.998571</td>\n",
       "      <td>0.990000</td>\n",
       "      <td>0.504286</td>\n",
       "      <td>0.701807</td>\n",
       "    </tr>\n",
       "    <tr>\n",
       "      <th>996</th>\n",
       "      <td>2.976237</td>\n",
       "      <td>N</td>\n",
       "      <td>997</td>\n",
       "      <td>0.998571</td>\n",
       "      <td>0.993333</td>\n",
       "      <td>0.502619</td>\n",
       "      <td>0.701103</td>\n",
       "    </tr>\n",
       "    <tr>\n",
       "      <th>997</th>\n",
       "      <td>3.249203</td>\n",
       "      <td>Y</td>\n",
       "      <td>998</td>\n",
       "      <td>1.000000</td>\n",
       "      <td>0.993333</td>\n",
       "      <td>0.503333</td>\n",
       "      <td>0.701403</td>\n",
       "    </tr>\n",
       "    <tr>\n",
       "      <th>998</th>\n",
       "      <td>3.398030</td>\n",
       "      <td>N</td>\n",
       "      <td>999</td>\n",
       "      <td>1.000000</td>\n",
       "      <td>0.996667</td>\n",
       "      <td>0.501667</td>\n",
       "      <td>0.700701</td>\n",
       "    </tr>\n",
       "    <tr>\n",
       "      <th>999</th>\n",
       "      <td>3.775374</td>\n",
       "      <td>N</td>\n",
       "      <td>1000</td>\n",
       "      <td>1.000000</td>\n",
       "      <td>1.000000</td>\n",
       "      <td>0.500000</td>\n",
       "      <td>0.700000</td>\n",
       "    </tr>\n",
       "  </tbody>\n",
       "</table>\n",
       "<p>1000 rows × 7 columns</p>\n",
       "</div>"
      ],
      "text/plain": [
       "        score  y  rank       tpr       fpr       bac      prec\n",
       "0   -2.865140  Y     1  0.001429  0.000000  0.500714  1.000000\n",
       "1   -2.655607  Y     2  0.002857  0.000000  0.501429  1.000000\n",
       "2   -2.645042  N     3  0.002857  0.003333  0.499762  0.666667\n",
       "3   -2.464232  Y     4  0.004286  0.003333  0.500476  0.750000\n",
       "4   -2.389570  Y     5  0.005714  0.003333  0.501190  0.800000\n",
       "..        ... ..   ...       ...       ...       ...       ...\n",
       "995  2.843025  Y   996  0.998571  0.990000  0.504286  0.701807\n",
       "996  2.976237  N   997  0.998571  0.993333  0.502619  0.701103\n",
       "997  3.249203  Y   998  1.000000  0.993333  0.503333  0.701403\n",
       "998  3.398030  N   999  1.000000  0.996667  0.501667  0.700701\n",
       "999  3.775374  N  1000  1.000000  1.000000  0.500000  0.700000\n",
       "\n",
       "[1000 rows x 7 columns]"
      ]
     },
     "execution_count": 5,
     "metadata": {},
     "output_type": "execute_result"
    }
   ],
   "source": [
    "df, info = build_metric(c.score, c.y)\n",
    "df"
   ]
  },
  {
   "cell_type": "code",
   "execution_count": 6,
   "id": "91f7554c-fd8a-4306-a1d0-344985274676",
   "metadata": {},
   "outputs": [
    {
     "data": {
      "text/plain": [
       "{'auc_rank': 0.7000190476190477,\n",
       " 'auc_bac': 0.7000190476190475,\n",
       " 'auprc': 0.8318624253282337,\n",
       " 'rho': 0.7,\n",
       " 'beta': 2.6067801232896244,\n",
       " 'mu': 0.867135668353576,\n",
       " 'r_star': 0.5420994856632015}"
      ]
     },
     "execution_count": 6,
     "metadata": {},
     "output_type": "execute_result"
    }
   ],
   "source": [
    "info"
   ]
  },
  {
   "cell_type": "code",
   "execution_count": 8,
   "id": "852a10fc-2c69-424a-85f9-2410f79eac7e",
   "metadata": {},
   "outputs": [
    {
     "data": {
      "text/plain": [
       "<AxesSubplot:xlabel='fpr', ylabel='tpr'>"
      ]
     },
     "execution_count": 8,
     "metadata": {},
     "output_type": "execute_result"
    },
    {
     "data": {
      "image/png": "[encoded data removed]",
      "text/plain": [
       "<Figure size 432x288 with 1 Axes>"
      ]
     },
     "metadata": {
      "needs_background": "light"
     },
     "output_type": "display_data"
    }
   ],
   "source": [
    "sns.scatterplot(data=df, x='fpr', y='tpr')"
   ]
  },
  {
   "cell_type": "code",
   "execution_count": 10,
   "id": "8bcc0dfd-3700-4226-aad7-26c7b105da31",
   "metadata": {},
   "outputs": [
    {
     "data": {
      "text/plain": [
       "(0.0, 1.0)"
      ]
     },
     "execution_count": 10,
     "metadata": {},
     "output_type": "execute_result"
    },
    {
     "data": {
      "image/png": "[encoded data removed]",
      "text/plain": [
       "<Figure size 432x288 with 1 Axes>"
      ]
     },
     "metadata": {
      "needs_background": "light"
     },
     "output_type": "display_data"
    }
   ],
   "source": [
    "g = sns.scatterplot(data=df, x='tpr', y='prec')\n",
    "g.set_ylim(0, 1)"
   ]
  },
  {
   "cell_type": "code",
   "execution_count": 15,
   "id": "96692b07-8401-4a19-b58f-9719bbe53d2a",
   "metadata": {},
   "outputs": [
    {
     "data": {
      "text/plain": [
       "(0.4, 1.0)"
      ]
     },
     "execution_count": 15,
     "metadata": {},
     "output_type": "execute_result"
    },
    {
     "data": {
      "image/png": "[encoded data removed]",
      "text/plain": [
       "<Figure size 432x288 with 1 Axes>"
      ]
     },
     "metadata": {
      "needs_background": "light"
     },
     "output_type": "display_data"
    }
   ],
   "source": [
    "g = sns.scatterplot(data=df, x='rank', y='bac')\n",
    "g.set_ylim(.4, 1)"
   ]
  },
  {
   "cell_type": "code",
   "execution_count": 2,
   "id": "e8e0e5ad-6e0b-4e8e-bb79-7de1eef3de59",
   "metadata": {},
   "outputs": [
    {
     "data": {
      "text/html": [
       "<div>\n",
       "<style scoped>\n",
       "    .dataframe tbody tr th:only-of-type {\n",
       "        vertical-align: middle;\n",
       "    }\n",
       "\n",
       "    .dataframe tbody tr th {\n",
       "        vertical-align: top;\n",
       "    }\n",
       "\n",
       "    .dataframe thead th {\n",
       "        text-align: right;\n",
       "    }\n",
       "</style>\n",
       "<table border=\"1\" class=\"dataframe\">\n",
       "  <thead>\n",
       "    <tr style=\"text-align: right;\">\n",
       "      <th></th>\n",
       "      <th>beta</th>\n",
       "      <th>mu</th>\n",
       "      <th>r_star</th>\n",
       "    </tr>\n",
       "  </thead>\n",
       "  <tbody>\n",
       "    <tr>\n",
       "      <th>0</th>\n",
       "      <td>1.221102</td>\n",
       "      <td>0.499974</td>\n",
       "      <td>0.499974</td>\n",
       "    </tr>\n",
       "    <tr>\n",
       "      <th>1</th>\n",
       "      <td>2.611782</td>\n",
       "      <td>0.500194</td>\n",
       "      <td>0.500194</td>\n",
       "    </tr>\n",
       "    <tr>\n",
       "      <th>2</th>\n",
       "      <td>4.394542</td>\n",
       "      <td>0.500000</td>\n",
       "      <td>0.500000</td>\n",
       "    </tr>\n",
       "    <tr>\n",
       "      <th>3</th>\n",
       "      <td>7.560140</td>\n",
       "      <td>0.500002</td>\n",
       "      <td>0.500002</td>\n",
       "    </tr>\n",
       "  </tbody>\n",
       "</table>\n",
       "</div>"
      ],
      "text/plain": [
       "       beta        mu    r_star\n",
       "0  1.221102  0.499974  0.499974\n",
       "1  2.611782  0.500194  0.500194\n",
       "2  4.394542  0.500000  0.500000\n",
       "3  7.560140  0.500002  0.500002"
      ]
     },
     "execution_count": 2,
     "metadata": {},
     "output_type": "execute_result"
    }
   ],
   "source": [
    "auclist = [0.6, 0.7, 0.8, 0.9]\n",
    "ans = pd.DataFrame()\n",
    "\n",
    "for auc in auclist:\n",
    "    ans = ans.append(get_fermi_min(auc, 0.5, resol=0.00001), ignore_index=True)\n",
    "    \n",
    "ans"
   ]
  },
  {
   "cell_type": "code",
   "execution_count": 9,
   "id": "e63110dd-0e7f-4cdd-92ec-95bdddc3eab4",
   "metadata": {},
   "outputs": [
    {
     "name": "stdout",
     "output_type": "stream",
     "text": [
      "0.6 0.5 0.5 - 0.24895836588351422 0.225\n",
      "0.6 0.5 0.5 - 0.23202050170031643 0.225\n"
     ]
    },
    {
     "ename": "ValueError",
     "evalue": "f(a) and f(b) must have different signs",
     "output_type": "error",
     "traceback": [
      "\u001b[0;31m---------------------------------------------------------------------------\u001b[0m",
      "\u001b[0;31mValueError\u001b[0m                                Traceback (most recent call last)",
      "\u001b[0;32m/var/folders/4r/2rdvdlmn03n6fkz4knhb9_fc0000gn/T/ipykernel_37166/925493310.py\u001b[0m in \u001b[0;36m<module>\u001b[0;34m\u001b[0m\n\u001b[1;32m      2\u001b[0m \u001b[0;34m\u001b[0m\u001b[0m\n\u001b[1;32m      3\u001b[0m \u001b[0;32mfor\u001b[0m \u001b[0mauc\u001b[0m \u001b[0;32min\u001b[0m \u001b[0mauclist\u001b[0m\u001b[0;34m:\u001b[0m\u001b[0;34m\u001b[0m\u001b[0;34m\u001b[0m\u001b[0m\n\u001b[0;32m----> 4\u001b[0;31m     \u001b[0mans\u001b[0m \u001b[0;34m=\u001b[0m \u001b[0mans\u001b[0m\u001b[0;34m.\u001b[0m\u001b[0mappend\u001b[0m\u001b[0;34m(\u001b[0m\u001b[0mget_fermi_root\u001b[0m\u001b[0;34m(\u001b[0m\u001b[0mauc\u001b[0m\u001b[0;34m,\u001b[0m \u001b[0;36m0.5\u001b[0m\u001b[0;34m)\u001b[0m\u001b[0;34m,\u001b[0m \u001b[0mignore_index\u001b[0m\u001b[0;34m=\u001b[0m\u001b[0;32mTrue\u001b[0m\u001b[0;34m)\u001b[0m\u001b[0;34m\u001b[0m\u001b[0;34m\u001b[0m\u001b[0m\n\u001b[0m\u001b[1;32m      5\u001b[0m \u001b[0;34m\u001b[0m\u001b[0m\n\u001b[1;32m      6\u001b[0m \u001b[0mans\u001b[0m\u001b[0;34m\u001b[0m\u001b[0;34m\u001b[0m\u001b[0m\n",
      "\u001b[0;32m~/CoreData/Local_Keep/git_repos/pyFiDEL/pyFiDEL/ranks.py\u001b[0m in \u001b[0;36mget_fermi_root\u001b[0;34m(auc, rho, N)\u001b[0m\n\u001b[1;32m    118\u001b[0m     \u001b[0mbeta0\u001b[0m \u001b[0;34m=\u001b[0m \u001b[0;34m-\u001b[0m\u001b[0mlambdas\u001b[0m\u001b[0;34m[\u001b[0m\u001b[0;34m'l1'\u001b[0m\u001b[0;34m]\u001b[0m \u001b[0;34m/\u001b[0m \u001b[0;34m(\u001b[0m\u001b[0;36m1000.\u001b[0m \u001b[0;34m*\u001b[0m \u001b[0mlambdas\u001b[0m\u001b[0;34m[\u001b[0m\u001b[0;34m'l2'\u001b[0m\u001b[0;34m]\u001b[0m\u001b[0;34m)\u001b[0m\u001b[0;34m\u001b[0m\u001b[0;34m\u001b[0m\u001b[0m\n\u001b[1;32m    119\u001b[0m \u001b[0;34m\u001b[0m\u001b[0m\n\u001b[0;32m--> 120\u001b[0;31m     \u001b[0mbeta\u001b[0m \u001b[0;34m=\u001b[0m \u001b[0mscipy\u001b[0m\u001b[0;34m.\u001b[0m\u001b[0moptimize\u001b[0m\u001b[0;34m.\u001b[0m\u001b[0mbrentq\u001b[0m\u001b[0;34m(\u001b[0m\u001b[0m_froot\u001b[0m\u001b[0;34m,\u001b[0m \u001b[0;36m0.05\u001b[0m\u001b[0;34m,\u001b[0m \u001b[0mbeta0\u001b[0m \u001b[0;34m*\u001b[0m \u001b[0;36m5.\u001b[0m\u001b[0;34m,\u001b[0m \u001b[0margs\u001b[0m\u001b[0;34m=\u001b[0m\u001b[0;34m(\u001b[0m\u001b[0mauc\u001b[0m\u001b[0;34m,\u001b[0m \u001b[0mrho\u001b[0m\u001b[0;34m)\u001b[0m\u001b[0;34m)\u001b[0m\u001b[0;34m\u001b[0m\u001b[0;34m\u001b[0m\u001b[0m\n\u001b[0m\u001b[1;32m    121\u001b[0m     \u001b[0mmu\u001b[0m \u001b[0;34m=\u001b[0m \u001b[0;36m.5\u001b[0m \u001b[0;34m-\u001b[0m \u001b[0mnp\u001b[0m\u001b[0;34m.\u001b[0m\u001b[0mlog\u001b[0m\u001b[0;34m(\u001b[0m\u001b[0mnp\u001b[0m\u001b[0;34m.\u001b[0m\u001b[0msinh\u001b[0m\u001b[0;34m(\u001b[0m\u001b[0mbeta\u001b[0m \u001b[0;34m*\u001b[0m \u001b[0;34m(\u001b[0m\u001b[0;36m1.\u001b[0m \u001b[0;34m-\u001b[0m \u001b[0mrho\u001b[0m\u001b[0;34m)\u001b[0m \u001b[0;34m*\u001b[0m \u001b[0;36m.5\u001b[0m\u001b[0;34m)\u001b[0m \u001b[0;34m/\u001b[0m \u001b[0mnp\u001b[0m\u001b[0;34m.\u001b[0m\u001b[0msinh\u001b[0m\u001b[0;34m(\u001b[0m\u001b[0mbeta\u001b[0m \u001b[0;34m*\u001b[0m \u001b[0mrho\u001b[0m \u001b[0;34m*\u001b[0m \u001b[0;36m.5\u001b[0m\u001b[0;34m)\u001b[0m\u001b[0;34m)\u001b[0m \u001b[0;34m/\u001b[0m \u001b[0mbeta\u001b[0m\u001b[0;34m\u001b[0m\u001b[0;34m\u001b[0m\u001b[0m\n\u001b[1;32m    122\u001b[0m     \u001b[0mr_star\u001b[0m \u001b[0;34m=\u001b[0m \u001b[0;36m1.\u001b[0m \u001b[0;34m/\u001b[0m \u001b[0mbeta\u001b[0m \u001b[0;34m*\u001b[0m \u001b[0mnp\u001b[0m\u001b[0;34m.\u001b[0m\u001b[0mlog\u001b[0m\u001b[0;34m(\u001b[0m\u001b[0;34m(\u001b[0m\u001b[0;36m1.\u001b[0m \u001b[0;34m-\u001b[0m \u001b[0mrho\u001b[0m\u001b[0;34m)\u001b[0m \u001b[0;34m/\u001b[0m \u001b[0mrho\u001b[0m\u001b[0;34m)\u001b[0m \u001b[0;34m+\u001b[0m \u001b[0mmu\u001b[0m\u001b[0;34m\u001b[0m\u001b[0;34m\u001b[0m\u001b[0m\n",
      "\u001b[0;32m~/.pyenv/versions/3.8.9/lib/python3.8/site-packages/scipy/optimize/zeros.py\u001b[0m in \u001b[0;36mbrentq\u001b[0;34m(f, a, b, args, xtol, rtol, maxiter, full_output, disp)\u001b[0m\n\u001b[1;32m    774\u001b[0m     \u001b[0;32mif\u001b[0m \u001b[0mrtol\u001b[0m \u001b[0;34m<\u001b[0m \u001b[0m_rtol\u001b[0m\u001b[0;34m:\u001b[0m\u001b[0;34m\u001b[0m\u001b[0;34m\u001b[0m\u001b[0m\n\u001b[1;32m    775\u001b[0m         \u001b[0;32mraise\u001b[0m \u001b[0mValueError\u001b[0m\u001b[0;34m(\u001b[0m\u001b[0;34m\"rtol too small (%g < %g)\"\u001b[0m \u001b[0;34m%\u001b[0m \u001b[0;34m(\u001b[0m\u001b[0mrtol\u001b[0m\u001b[0;34m,\u001b[0m \u001b[0m_rtol\u001b[0m\u001b[0;34m)\u001b[0m\u001b[0;34m)\u001b[0m\u001b[0;34m\u001b[0m\u001b[0;34m\u001b[0m\u001b[0m\n\u001b[0;32m--> 776\u001b[0;31m     \u001b[0mr\u001b[0m \u001b[0;34m=\u001b[0m \u001b[0m_zeros\u001b[0m\u001b[0;34m.\u001b[0m\u001b[0m_brentq\u001b[0m\u001b[0;34m(\u001b[0m\u001b[0mf\u001b[0m\u001b[0;34m,\u001b[0m \u001b[0ma\u001b[0m\u001b[0;34m,\u001b[0m \u001b[0mb\u001b[0m\u001b[0;34m,\u001b[0m \u001b[0mxtol\u001b[0m\u001b[0;34m,\u001b[0m \u001b[0mrtol\u001b[0m\u001b[0;34m,\u001b[0m \u001b[0mmaxiter\u001b[0m\u001b[0;34m,\u001b[0m \u001b[0margs\u001b[0m\u001b[0;34m,\u001b[0m \u001b[0mfull_output\u001b[0m\u001b[0;34m,\u001b[0m \u001b[0mdisp\u001b[0m\u001b[0;34m)\u001b[0m\u001b[0;34m\u001b[0m\u001b[0;34m\u001b[0m\u001b[0m\n\u001b[0m\u001b[1;32m    777\u001b[0m     \u001b[0;32mreturn\u001b[0m \u001b[0mresults_c\u001b[0m\u001b[0;34m(\u001b[0m\u001b[0mfull_output\u001b[0m\u001b[0;34m,\u001b[0m \u001b[0mr\u001b[0m\u001b[0;34m)\u001b[0m\u001b[0;34m\u001b[0m\u001b[0;34m\u001b[0m\u001b[0m\n\u001b[1;32m    778\u001b[0m \u001b[0;34m\u001b[0m\u001b[0m\n",
      "\u001b[0;31mValueError\u001b[0m: f(a) and f(b) must have different signs"
     ]
    }
   ],
   "source": [
    "ans = pd.DataFrame()\n",
    "\n",
    "for auc in auclist:\n",
    "    ans = ans.append(get_fermi_root(auc, 0.5), ignore_index=True)\n",
    "    \n",
    "ans"
   ]
  },
  {
   "cell_type": "code",
   "execution_count": 3,
   "id": "3cb2747e-6c14-4f09-a6fb-81538f73f8c6",
   "metadata": {},
   "outputs": [
    {
     "data": {
      "text/html": [
       "<div>\n",
       "<style scoped>\n",
       "    .dataframe tbody tr th:only-of-type {\n",
       "        vertical-align: middle;\n",
       "    }\n",
       "\n",
       "    .dataframe tbody tr th {\n",
       "        vertical-align: top;\n",
       "    }\n",
       "\n",
       "    .dataframe thead th {\n",
       "        text-align: right;\n",
       "    }\n",
       "</style>\n",
       "<table border=\"1\" class=\"dataframe\">\n",
       "  <thead>\n",
       "    <tr style=\"text-align: right;\">\n",
       "      <th></th>\n",
       "      <th>auc</th>\n",
       "      <th>rho</th>\n",
       "      <th>beta</th>\n",
       "      <th>mu</th>\n",
       "      <th>r_star</th>\n",
       "    </tr>\n",
       "  </thead>\n",
       "  <tbody>\n",
       "    <tr>\n",
       "      <th>0</th>\n",
       "      <td>0.51</td>\n",
       "      <td>0.1</td>\n",
       "      <td>0.589124</td>\n",
       "      <td>-3.223147</td>\n",
       "      <td>0.506499</td>\n",
       "    </tr>\n",
       "    <tr>\n",
       "      <th>1</th>\n",
       "      <td>0.51</td>\n",
       "      <td>0.2</td>\n",
       "      <td>0.122052</td>\n",
       "      <td>-10.860537</td>\n",
       "      <td>0.497713</td>\n",
       "    </tr>\n",
       "    <tr>\n",
       "      <th>2</th>\n",
       "      <td>0.51</td>\n",
       "      <td>0.3</td>\n",
       "      <td>0.140624</td>\n",
       "      <td>-5.522455</td>\n",
       "      <td>0.502818</td>\n",
       "    </tr>\n",
       "    <tr>\n",
       "      <th>3</th>\n",
       "      <td>0.51</td>\n",
       "      <td>0.4</td>\n",
       "      <td>0.121428</td>\n",
       "      <td>-2.839471</td>\n",
       "      <td>0.499676</td>\n",
       "    </tr>\n",
       "    <tr>\n",
       "      <th>4</th>\n",
       "      <td>0.51</td>\n",
       "      <td>0.5</td>\n",
       "      <td>0.016504</td>\n",
       "      <td>0.200998</td>\n",
       "      <td>0.200998</td>\n",
       "    </tr>\n",
       "    <tr>\n",
       "      <th>5</th>\n",
       "      <td>0.51</td>\n",
       "      <td>0.6</td>\n",
       "      <td>-0.004456</td>\n",
       "      <td>-89.560957</td>\n",
       "      <td>1.424945</td>\n",
       "    </tr>\n",
       "    <tr>\n",
       "      <th>6</th>\n",
       "      <td>0.51</td>\n",
       "      <td>0.7</td>\n",
       "      <td>-0.003780</td>\n",
       "      <td>-222.578695</td>\n",
       "      <td>1.594376</td>\n",
       "    </tr>\n",
       "    <tr>\n",
       "      <th>7</th>\n",
       "      <td>0.51</td>\n",
       "      <td>0.8</td>\n",
       "      <td>-0.008158</td>\n",
       "      <td>-168.900079</td>\n",
       "      <td>1.035212</td>\n",
       "    </tr>\n",
       "    <tr>\n",
       "      <th>8</th>\n",
       "      <td>0.51</td>\n",
       "      <td>0.9</td>\n",
       "      <td>0.421432</td>\n",
       "      <td>5.752064</td>\n",
       "      <td>0.538358</td>\n",
       "    </tr>\n",
       "    <tr>\n",
       "      <th>9</th>\n",
       "      <td>0.60</td>\n",
       "      <td>0.1</td>\n",
       "      <td>1.238624</td>\n",
       "      <td>-1.314490</td>\n",
       "      <td>0.459433</td>\n",
       "    </tr>\n",
       "    <tr>\n",
       "      <th>10</th>\n",
       "      <td>0.60</td>\n",
       "      <td>0.2</td>\n",
       "      <td>1.231778</td>\n",
       "      <td>-0.655738</td>\n",
       "      <td>0.469704</td>\n",
       "    </tr>\n",
       "    <tr>\n",
       "      <th>11</th>\n",
       "      <td>0.60</td>\n",
       "      <td>0.3</td>\n",
       "      <td>1.223627</td>\n",
       "      <td>-0.212683</td>\n",
       "      <td>0.479765</td>\n",
       "    </tr>\n",
       "    <tr>\n",
       "      <th>12</th>\n",
       "      <td>0.60</td>\n",
       "      <td>0.4</td>\n",
       "      <td>1.222882</td>\n",
       "      <td>0.158324</td>\n",
       "      <td>0.489889</td>\n",
       "    </tr>\n",
       "    <tr>\n",
       "      <th>13</th>\n",
       "      <td>0.60</td>\n",
       "      <td>0.5</td>\n",
       "      <td>1.221102</td>\n",
       "      <td>0.499974</td>\n",
       "      <td>0.499974</td>\n",
       "    </tr>\n",
       "    <tr>\n",
       "      <th>14</th>\n",
       "      <td>0.60</td>\n",
       "      <td>0.6</td>\n",
       "      <td>1.223250</td>\n",
       "      <td>0.841615</td>\n",
       "      <td>0.510149</td>\n",
       "    </tr>\n",
       "    <tr>\n",
       "      <th>15</th>\n",
       "      <td>0.60</td>\n",
       "      <td>0.7</td>\n",
       "      <td>1.223522</td>\n",
       "      <td>1.212774</td>\n",
       "      <td>0.520266</td>\n",
       "    </tr>\n",
       "    <tr>\n",
       "      <th>16</th>\n",
       "      <td>0.60</td>\n",
       "      <td>0.8</td>\n",
       "      <td>1.228758</td>\n",
       "      <td>1.658844</td>\n",
       "      <td>0.530636</td>\n",
       "    </tr>\n",
       "    <tr>\n",
       "      <th>17</th>\n",
       "      <td>0.60</td>\n",
       "      <td>0.9</td>\n",
       "      <td>1.327490</td>\n",
       "      <td>2.201634</td>\n",
       "      <td>0.546462</td>\n",
       "    </tr>\n",
       "    <tr>\n",
       "      <th>18</th>\n",
       "      <td>0.70</td>\n",
       "      <td>0.1</td>\n",
       "      <td>2.648423</td>\n",
       "      <td>-0.413977</td>\n",
       "      <td>0.415658</td>\n",
       "    </tr>\n",
       "    <tr>\n",
       "      <th>19</th>\n",
       "      <td>0.70</td>\n",
       "      <td>0.2</td>\n",
       "      <td>2.621839</td>\n",
       "      <td>-0.091906</td>\n",
       "      <td>0.436842</td>\n",
       "    </tr>\n",
       "    <tr>\n",
       "      <th>20</th>\n",
       "      <td>0.70</td>\n",
       "      <td>0.3</td>\n",
       "      <td>2.607171</td>\n",
       "      <td>0.132932</td>\n",
       "      <td>0.457919</td>\n",
       "    </tr>\n",
       "    <tr>\n",
       "      <th>21</th>\n",
       "      <td>0.70</td>\n",
       "      <td>0.4</td>\n",
       "      <td>2.597862</td>\n",
       "      <td>0.322882</td>\n",
       "      <td>0.478958</td>\n",
       "    </tr>\n",
       "    <tr>\n",
       "      <th>22</th>\n",
       "      <td>0.70</td>\n",
       "      <td>0.5</td>\n",
       "      <td>2.611782</td>\n",
       "      <td>0.500194</td>\n",
       "      <td>0.500194</td>\n",
       "    </tr>\n",
       "    <tr>\n",
       "      <th>23</th>\n",
       "      <td>0.70</td>\n",
       "      <td>0.6</td>\n",
       "      <td>2.597855</td>\n",
       "      <td>0.677124</td>\n",
       "      <td>0.521047</td>\n",
       "    </tr>\n",
       "    <tr>\n",
       "      <th>24</th>\n",
       "      <td>0.70</td>\n",
       "      <td>0.7</td>\n",
       "      <td>2.606873</td>\n",
       "      <td>0.867127</td>\n",
       "      <td>0.542102</td>\n",
       "    </tr>\n",
       "    <tr>\n",
       "      <th>25</th>\n",
       "      <td>0.70</td>\n",
       "      <td>0.8</td>\n",
       "      <td>2.620936</td>\n",
       "      <td>1.092056</td>\n",
       "      <td>0.563125</td>\n",
       "    </tr>\n",
       "    <tr>\n",
       "      <th>26</th>\n",
       "      <td>0.70</td>\n",
       "      <td>0.9</td>\n",
       "      <td>2.645369</td>\n",
       "      <td>1.414946</td>\n",
       "      <td>0.584354</td>\n",
       "    </tr>\n",
       "    <tr>\n",
       "      <th>27</th>\n",
       "      <td>0.80</td>\n",
       "      <td>0.1</td>\n",
       "      <td>5.098700</td>\n",
       "      <td>-0.077117</td>\n",
       "      <td>0.353821</td>\n",
       "    </tr>\n",
       "    <tr>\n",
       "      <th>28</th>\n",
       "      <td>0.80</td>\n",
       "      <td>0.2</td>\n",
       "      <td>4.528426</td>\n",
       "      <td>0.091604</td>\n",
       "      <td>0.397736</td>\n",
       "    </tr>\n",
       "    <tr>\n",
       "      <th>29</th>\n",
       "      <td>0.80</td>\n",
       "      <td>0.3</td>\n",
       "      <td>4.452290</td>\n",
       "      <td>0.241646</td>\n",
       "      <td>0.431952</td>\n",
       "    </tr>\n",
       "    <tr>\n",
       "      <th>30</th>\n",
       "      <td>0.80</td>\n",
       "      <td>0.4</td>\n",
       "      <td>4.408566</td>\n",
       "      <td>0.374038</td>\n",
       "      <td>0.466010</td>\n",
       "    </tr>\n",
       "    <tr>\n",
       "      <th>31</th>\n",
       "      <td>0.80</td>\n",
       "      <td>0.5</td>\n",
       "      <td>4.394542</td>\n",
       "      <td>0.500000</td>\n",
       "      <td>0.500000</td>\n",
       "    </tr>\n",
       "    <tr>\n",
       "      <th>32</th>\n",
       "      <td>0.80</td>\n",
       "      <td>0.6</td>\n",
       "      <td>4.408983</td>\n",
       "      <td>0.625957</td>\n",
       "      <td>0.533993</td>\n",
       "    </tr>\n",
       "    <tr>\n",
       "      <th>33</th>\n",
       "      <td>0.80</td>\n",
       "      <td>0.7</td>\n",
       "      <td>4.438612</td>\n",
       "      <td>0.758692</td>\n",
       "      <td>0.567799</td>\n",
       "    </tr>\n",
       "    <tr>\n",
       "      <th>34</th>\n",
       "      <td>0.80</td>\n",
       "      <td>0.8</td>\n",
       "      <td>4.525402</td>\n",
       "      <td>0.908550</td>\n",
       "      <td>0.602214</td>\n",
       "    </tr>\n",
       "    <tr>\n",
       "      <th>35</th>\n",
       "      <td>0.80</td>\n",
       "      <td>0.9</td>\n",
       "      <td>5.076864</td>\n",
       "      <td>1.081139</td>\n",
       "      <td>0.648348</td>\n",
       "    </tr>\n",
       "    <tr>\n",
       "      <th>36</th>\n",
       "      <td>0.90</td>\n",
       "      <td>0.1</td>\n",
       "      <td>7.846423</td>\n",
       "      <td>0.021994</td>\n",
       "      <td>0.302023</td>\n",
       "    </tr>\n",
       "    <tr>\n",
       "      <th>37</th>\n",
       "      <td>0.90</td>\n",
       "      <td>0.2</td>\n",
       "      <td>8.216159</td>\n",
       "      <td>0.174015</td>\n",
       "      <td>0.342743</td>\n",
       "    </tr>\n",
       "    <tr>\n",
       "      <th>38</th>\n",
       "      <td>0.90</td>\n",
       "      <td>0.3</td>\n",
       "      <td>7.827082</td>\n",
       "      <td>0.287702</td>\n",
       "      <td>0.395954</td>\n",
       "    </tr>\n",
       "    <tr>\n",
       "      <th>39</th>\n",
       "      <td>0.90</td>\n",
       "      <td>0.4</td>\n",
       "      <td>7.624796</td>\n",
       "      <td>0.394992</td>\n",
       "      <td>0.448170</td>\n",
       "    </tr>\n",
       "    <tr>\n",
       "      <th>40</th>\n",
       "      <td>0.90</td>\n",
       "      <td>0.5</td>\n",
       "      <td>7.560140</td>\n",
       "      <td>0.500002</td>\n",
       "      <td>0.500002</td>\n",
       "    </tr>\n",
       "    <tr>\n",
       "      <th>41</th>\n",
       "      <td>0.90</td>\n",
       "      <td>0.6</td>\n",
       "      <td>7.625415</td>\n",
       "      <td>0.605005</td>\n",
       "      <td>0.551833</td>\n",
       "    </tr>\n",
       "    <tr>\n",
       "      <th>42</th>\n",
       "      <td>0.90</td>\n",
       "      <td>0.7</td>\n",
       "      <td>7.831127</td>\n",
       "      <td>0.712277</td>\n",
       "      <td>0.604081</td>\n",
       "    </tr>\n",
       "    <tr>\n",
       "      <th>43</th>\n",
       "      <td>0.90</td>\n",
       "      <td>0.8</td>\n",
       "      <td>8.213748</td>\n",
       "      <td>0.826004</td>\n",
       "      <td>0.657226</td>\n",
       "    </tr>\n",
       "    <tr>\n",
       "      <th>44</th>\n",
       "      <td>0.90</td>\n",
       "      <td>0.9</td>\n",
       "      <td>7.842105</td>\n",
       "      <td>0.976370</td>\n",
       "      <td>0.696187</td>\n",
       "    </tr>\n",
       "  </tbody>\n",
       "</table>\n",
       "</div>"
      ],
      "text/plain": [
       "     auc  rho      beta          mu    r_star\n",
       "0   0.51  0.1  0.589124   -3.223147  0.506499\n",
       "1   0.51  0.2  0.122052  -10.860537  0.497713\n",
       "2   0.51  0.3  0.140624   -5.522455  0.502818\n",
       "3   0.51  0.4  0.121428   -2.839471  0.499676\n",
       "4   0.51  0.5  0.016504    0.200998  0.200998\n",
       "5   0.51  0.6 -0.004456  -89.560957  1.424945\n",
       "6   0.51  0.7 -0.003780 -222.578695  1.594376\n",
       "7   0.51  0.8 -0.008158 -168.900079  1.035212\n",
       "8   0.51  0.9  0.421432    5.752064  0.538358\n",
       "9   0.60  0.1  1.238624   -1.314490  0.459433\n",
       "10  0.60  0.2  1.231778   -0.655738  0.469704\n",
       "11  0.60  0.3  1.223627   -0.212683  0.479765\n",
       "12  0.60  0.4  1.222882    0.158324  0.489889\n",
       "13  0.60  0.5  1.221102    0.499974  0.499974\n",
       "14  0.60  0.6  1.223250    0.841615  0.510149\n",
       "15  0.60  0.7  1.223522    1.212774  0.520266\n",
       "16  0.60  0.8  1.228758    1.658844  0.530636\n",
       "17  0.60  0.9  1.327490    2.201634  0.546462\n",
       "18  0.70  0.1  2.648423   -0.413977  0.415658\n",
       "19  0.70  0.2  2.621839   -0.091906  0.436842\n",
       "20  0.70  0.3  2.607171    0.132932  0.457919\n",
       "21  0.70  0.4  2.597862    0.322882  0.478958\n",
       "22  0.70  0.5  2.611782    0.500194  0.500194\n",
       "23  0.70  0.6  2.597855    0.677124  0.521047\n",
       "24  0.70  0.7  2.606873    0.867127  0.542102\n",
       "25  0.70  0.8  2.620936    1.092056  0.563125\n",
       "26  0.70  0.9  2.645369    1.414946  0.584354\n",
       "27  0.80  0.1  5.098700   -0.077117  0.353821\n",
       "28  0.80  0.2  4.528426    0.091604  0.397736\n",
       "29  0.80  0.3  4.452290    0.241646  0.431952\n",
       "30  0.80  0.4  4.408566    0.374038  0.466010\n",
       "31  0.80  0.5  4.394542    0.500000  0.500000\n",
       "32  0.80  0.6  4.408983    0.625957  0.533993\n",
       "33  0.80  0.7  4.438612    0.758692  0.567799\n",
       "34  0.80  0.8  4.525402    0.908550  0.602214\n",
       "35  0.80  0.9  5.076864    1.081139  0.648348\n",
       "36  0.90  0.1  7.846423    0.021994  0.302023\n",
       "37  0.90  0.2  8.216159    0.174015  0.342743\n",
       "38  0.90  0.3  7.827082    0.287702  0.395954\n",
       "39  0.90  0.4  7.624796    0.394992  0.448170\n",
       "40  0.90  0.5  7.560140    0.500002  0.500002\n",
       "41  0.90  0.6  7.625415    0.605005  0.551833\n",
       "42  0.90  0.7  7.831127    0.712277  0.604081\n",
       "43  0.90  0.8  8.213748    0.826004  0.657226\n",
       "44  0.90  0.9  7.842105    0.976370  0.696187"
      ]
     },
     "execution_count": 3,
     "metadata": {},
     "output_type": "execute_result"
    }
   ],
   "source": [
    "auclist = [0.51, 0.55, 0.6, 0.65, 0.7, 0.75, 0.8, 0.85, 0.9, 0.95]\n",
    "rholist = [0.1, 0.2, 0.3, 0.4, 0.5, 0.6, 0.7, 0.8, 0.9]\n",
    "\n",
    "df = build_correspond_table(auclist, rholist, resol=0.00001)\n",
    "df"
   ]
  },
  {
   "cell_type": "code",
   "execution_count": 4,
   "id": "9996f895-ecc0-43b0-8585-0d7c1df870b4",
   "metadata": {},
   "outputs": [
    {
     "data": {
      "text/plain": [
       "<AxesSubplot:xlabel='auc', ylabel='beta'>"
      ]
     },
     "execution_count": 4,
     "metadata": {},
     "output_type": "execute_result"
    },
    {
     "data": {
      "image/png": "[encoded data removed]",
      "text/plain": [
       "<Figure size 432x288 with 1 Axes>"
      ]
     },
     "metadata": {
      "needs_background": "light"
     },
     "output_type": "display_data"
    }
   ],
   "source": [
    "sns.scatterplot(data=df, x='auc', y='beta', hue='rho')"
   ]
  },
  {
   "cell_type": "code",
   "execution_count": 5,
   "id": "a1a9914a-2e9b-4cfe-873b-64297471ad75",
   "metadata": {},
   "outputs": [
    {
     "data": {
      "text/plain": [
       "<AxesSubplot:xlabel='auc', ylabel='mu'>"
      ]
     },
     "execution_count": 5,
     "metadata": {},
     "output_type": "execute_result"
    },
    {
     "data": {
      "image/png": "[encoded data removed]",
      "text/plain": [
       "<Figure size 432x288 with 1 Axes>"
      ]
     },
     "metadata": {
      "needs_background": "light"
     },
     "output_type": "display_data"
    }
   ],
   "source": [
    "sns.scatterplot(data=df, x='auc', y='mu', hue='rho')"
   ]
  },
  {
   "cell_type": "code",
   "execution_count": 6,
   "id": "4079e871-49da-4077-b869-67bcc9352c47",
   "metadata": {},
   "outputs": [
    {
     "data": {
      "text/plain": [
       "<AxesSubplot:xlabel='rho', ylabel='beta'>"
      ]
     },
     "execution_count": 6,
     "metadata": {},
     "output_type": "execute_result"
    },
    {
     "data": {
      "image/png": "[encoded data removed]",
      "text/plain": [
       "<Figure size 432x288 with 1 Axes>"
      ]
     },
     "metadata": {
      "needs_background": "light"
     },
     "output_type": "display_data"
    }
   ],
   "source": [
    "sns.scatterplot(data=df, x='rho', y='beta', hue='auc')"
   ]
  },
  {
   "cell_type": "code",
   "execution_count": 7,
   "id": "1c8a1d3e-afbf-4d10-94de-45ad35d05551",
   "metadata": {},
   "outputs": [
    {
     "data": {
      "text/plain": [
       "<AxesSubplot:xlabel='rho', ylabel='mu'>"
      ]
     },
     "execution_count": 7,
     "metadata": {},
     "output_type": "execute_result"
    },
    {
     "data": {
      "image/png": "[encoded data removed]",
      "text/plain": [
       "<Figure size 432x288 with 1 Axes>"
      ]
     },
     "metadata": {
      "needs_background": "light"
     },
     "output_type": "display_data"
    }
   ],
   "source": [
    "sns.scatterplot(data=df, x='rho', y='mu', hue='auc')"
   ]
  },
  {
   "cell_type": "code",
   "execution_count": 10,
   "id": "ca21feee-caf9-495d-8466-cc0fedf75fe3",
   "metadata": {},
   "outputs": [
    {
     "data": {
      "text/plain": [
       "\u001b[0;31mSignature:\u001b[0m\n",
       "\u001b[0mnp\u001b[0m\u001b[0;34m.\u001b[0m\u001b[0mlinspace\u001b[0m\u001b[0;34m(\u001b[0m\u001b[0;34m\u001b[0m\n",
       "\u001b[0;34m\u001b[0m    \u001b[0mstart\u001b[0m\u001b[0;34m,\u001b[0m\u001b[0;34m\u001b[0m\n",
       "\u001b[0;34m\u001b[0m    \u001b[0mstop\u001b[0m\u001b[0;34m,\u001b[0m\u001b[0;34m\u001b[0m\n",
       "\u001b[0;34m\u001b[0m    \u001b[0mnum\u001b[0m\u001b[0;34m=\u001b[0m\u001b[0;36m50\u001b[0m\u001b[0;34m,\u001b[0m\u001b[0;34m\u001b[0m\n",
       "\u001b[0;34m\u001b[0m    \u001b[0mendpoint\u001b[0m\u001b[0;34m=\u001b[0m\u001b[0;32mTrue\u001b[0m\u001b[0;34m,\u001b[0m\u001b[0;34m\u001b[0m\n",
       "\u001b[0;34m\u001b[0m    \u001b[0mretstep\u001b[0m\u001b[0;34m=\u001b[0m\u001b[0;32mFalse\u001b[0m\u001b[0;34m,\u001b[0m\u001b[0;34m\u001b[0m\n",
       "\u001b[0;34m\u001b[0m    \u001b[0mdtype\u001b[0m\u001b[0;34m=\u001b[0m\u001b[0;32mNone\u001b[0m\u001b[0;34m,\u001b[0m\u001b[0;34m\u001b[0m\n",
       "\u001b[0;34m\u001b[0m    \u001b[0maxis\u001b[0m\u001b[0;34m=\u001b[0m\u001b[0;36m0\u001b[0m\u001b[0;34m,\u001b[0m\u001b[0;34m\u001b[0m\n",
       "\u001b[0;34m\u001b[0m\u001b[0;34m)\u001b[0m\u001b[0;34m\u001b[0m\u001b[0;34m\u001b[0m\u001b[0m\n",
       "\u001b[0;31mDocstring:\u001b[0m\n",
       "Return evenly spaced numbers over a specified interval.\n",
       "\n",
       "Returns `num` evenly spaced samples, calculated over the\n",
       "interval [`start`, `stop`].\n",
       "\n",
       "The endpoint of the interval can optionally be excluded.\n",
       "\n",
       ".. versionchanged:: 1.16.0\n",
       "    Non-scalar `start` and `stop` are now supported.\n",
       "\n",
       ".. versionchanged:: 1.20.0\n",
       "    Values are rounded towards ``-inf`` instead of ``0`` when an\n",
       "    integer ``dtype`` is specified. The old behavior can\n",
       "    still be obtained with ``np.linspace(start, stop, num).astype(int)``\n",
       "\n",
       "Parameters\n",
       "----------\n",
       "start : array_like\n",
       "    The starting value of the sequence.\n",
       "stop : array_like\n",
       "    The end value of the sequence, unless `endpoint` is set to False.\n",
       "    In that case, the sequence consists of all but the last of ``num + 1``\n",
       "    evenly spaced samples, so that `stop` is excluded.  Note that the step\n",
       "    size changes when `endpoint` is False.\n",
       "num : int, optional\n",
       "    Number of samples to generate. Default is 50. Must be non-negative.\n",
       "endpoint : bool, optional\n",
       "    If True, `stop` is the last sample. Otherwise, it is not included.\n",
       "    Default is True.\n",
       "retstep : bool, optional\n",
       "    If True, return (`samples`, `step`), where `step` is the spacing\n",
       "    between samples.\n",
       "dtype : dtype, optional\n",
       "    The type of the output array.  If `dtype` is not given, the data type\n",
       "    is inferred from `start` and `stop`. The inferred dtype will never be\n",
       "    an integer; `float` is chosen even if the arguments would produce an\n",
       "    array of integers.\n",
       "\n",
       "    .. versionadded:: 1.9.0\n",
       "\n",
       "axis : int, optional\n",
       "    The axis in the result to store the samples.  Relevant only if start\n",
       "    or stop are array-like.  By default (0), the samples will be along a\n",
       "    new axis inserted at the beginning. Use -1 to get an axis at the end.\n",
       "\n",
       "    .. versionadded:: 1.16.0\n",
       "\n",
       "Returns\n",
       "-------\n",
       "samples : ndarray\n",
       "    There are `num` equally spaced samples in the closed interval\n",
       "    ``[start, stop]`` or the half-open interval ``[start, stop)``\n",
       "    (depending on whether `endpoint` is True or False).\n",
       "step : float, optional\n",
       "    Only returned if `retstep` is True\n",
       "\n",
       "    Size of spacing between samples.\n",
       "\n",
       "\n",
       "See Also\n",
       "--------\n",
       "arange : Similar to `linspace`, but uses a step size (instead of the\n",
       "         number of samples).\n",
       "geomspace : Similar to `linspace`, but with numbers spaced evenly on a log\n",
       "            scale (a geometric progression).\n",
       "logspace : Similar to `geomspace`, but with the end points specified as\n",
       "           logarithms.\n",
       "\n",
       "Examples\n",
       "--------\n",
       ">>> np.linspace(2.0, 3.0, num=5)\n",
       "array([2.  , 2.25, 2.5 , 2.75, 3.  ])\n",
       ">>> np.linspace(2.0, 3.0, num=5, endpoint=False)\n",
       "array([2. ,  2.2,  2.4,  2.6,  2.8])\n",
       ">>> np.linspace(2.0, 3.0, num=5, retstep=True)\n",
       "(array([2.  ,  2.25,  2.5 ,  2.75,  3.  ]), 0.25)\n",
       "\n",
       "Graphical illustration:\n",
       "\n",
       ">>> import matplotlib.pyplot as plt\n",
       ">>> N = 8\n",
       ">>> y = np.zeros(N)\n",
       ">>> x1 = np.linspace(0, 10, N, endpoint=True)\n",
       ">>> x2 = np.linspace(0, 10, N, endpoint=False)\n",
       ">>> plt.plot(x1, y, 'o')\n",
       "[<matplotlib.lines.Line2D object at 0x...>]\n",
       ">>> plt.plot(x2, y + 0.5, 'o')\n",
       "[<matplotlib.lines.Line2D object at 0x...>]\n",
       ">>> plt.ylim([-0.5, 1])\n",
       "(-0.5, 1)\n",
       ">>> plt.show()\n",
       "\u001b[0;31mFile:\u001b[0m      ~/.pyenv/versions/3.8.9/lib/python3.8/site-packages/numpy/core/function_base.py\n",
       "\u001b[0;31mType:\u001b[0m      function\n"
      ]
     },
     "metadata": {},
     "output_type": "display_data"
    }
   ],
   "source": [
    "import numpy as np\n",
    "\n",
    "resol = 1E-6\n",
    "np.linspace?"
   ]
  },
  {
   "cell_type": "code",
   "execution_count": null,
   "id": "87a14a0d-0e10-4579-8c75-ed3427407a70",
   "metadata": {},
   "outputs": [],
   "source": []
  }
 ],
 "metadata": {
  "kernelspec": {
   "display_name": "Python 3 (ipykernel)",
   "language": "python",
   "name": "python3"
  },
  "language_info": {
   "codemirror_mode": {
    "name": "ipython",
    "version": 3
   },
   "file_extension": ".py",
   "mimetype": "text/x-python",
   "name": "python",
   "nbconvert_exporter": "python",
   "pygments_lexer": "ipython3",
   "version": "3.8.9"
  }
 },
 "nbformat": 4,
 "nbformat_minor": 5
}
